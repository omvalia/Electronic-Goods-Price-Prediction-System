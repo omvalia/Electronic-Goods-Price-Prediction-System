{
 "cells": [
  {
   "cell_type": "code",
   "execution_count": 1,
   "id": "9529d150",
   "metadata": {},
   "outputs": [],
   "source": [
    "import numpy as np\n",
    "import pandas as pd\n",
    "import matplotlib.pyplot as plt"
   ]
  },
  {
   "cell_type": "code",
   "execution_count": 2,
   "id": "7893f931",
   "metadata": {},
   "outputs": [],
   "source": [
    "df = pd.read_csv('TV_Final.csv')"
   ]
  },
  {
   "cell_type": "code",
   "execution_count": 3,
   "id": "8f6b3179",
   "metadata": {},
   "outputs": [
    {
     "data": {
      "text/html": [
       "<div>\n",
       "<style scoped>\n",
       "    .dataframe tbody tr th:only-of-type {\n",
       "        vertical-align: middle;\n",
       "    }\n",
       "\n",
       "    .dataframe tbody tr th {\n",
       "        vertical-align: top;\n",
       "    }\n",
       "\n",
       "    .dataframe thead th {\n",
       "        text-align: right;\n",
       "    }\n",
       "</style>\n",
       "<table border=\"1\" class=\"dataframe\">\n",
       "  <thead>\n",
       "    <tr style=\"text-align: right;\">\n",
       "      <th></th>\n",
       "      <th>Brand</th>\n",
       "      <th>Resolution</th>\n",
       "      <th>Size</th>\n",
       "      <th>Selling Price</th>\n",
       "      <th>Original Price</th>\n",
       "      <th>Operating System</th>\n",
       "      <th>Rating</th>\n",
       "    </tr>\n",
       "  </thead>\n",
       "  <tbody>\n",
       "    <tr>\n",
       "      <th>0</th>\n",
       "      <td>TOSHIBA</td>\n",
       "      <td>Ultra HD LED</td>\n",
       "      <td>55</td>\n",
       "      <td>37999</td>\n",
       "      <td>54990</td>\n",
       "      <td>VIDAA</td>\n",
       "      <td>4.3</td>\n",
       "    </tr>\n",
       "    <tr>\n",
       "      <th>1</th>\n",
       "      <td>TCL</td>\n",
       "      <td>QLED Ultra HD</td>\n",
       "      <td>55</td>\n",
       "      <td>52999</td>\n",
       "      <td>129990</td>\n",
       "      <td>Android</td>\n",
       "      <td>4.4</td>\n",
       "    </tr>\n",
       "    <tr>\n",
       "      <th>2</th>\n",
       "      <td>realme</td>\n",
       "      <td>HD LED</td>\n",
       "      <td>32</td>\n",
       "      <td>13999</td>\n",
       "      <td>17999</td>\n",
       "      <td>Android</td>\n",
       "      <td>4.3</td>\n",
       "    </tr>\n",
       "    <tr>\n",
       "      <th>3</th>\n",
       "      <td>Mi</td>\n",
       "      <td>HD LED</td>\n",
       "      <td>32</td>\n",
       "      <td>14999</td>\n",
       "      <td>19999</td>\n",
       "      <td>Android</td>\n",
       "      <td>4.4</td>\n",
       "    </tr>\n",
       "    <tr>\n",
       "      <th>4</th>\n",
       "      <td>realme</td>\n",
       "      <td>HD LED</td>\n",
       "      <td>32</td>\n",
       "      <td>12999</td>\n",
       "      <td>21999</td>\n",
       "      <td>Android</td>\n",
       "      <td>4.3</td>\n",
       "    </tr>\n",
       "  </tbody>\n",
       "</table>\n",
       "</div>"
      ],
      "text/plain": [
       "     Brand     Resolution  Size   Selling Price  Original Price  \\\n",
       "0  TOSHIBA   Ultra HD LED     55          37999           54990   \n",
       "1     TCL   QLED Ultra HD     55          52999          129990   \n",
       "2  realme          HD LED     32          13999           17999   \n",
       "3      Mi          HD LED     32          14999           19999   \n",
       "4  realme          HD LED     32          12999           21999   \n",
       "\n",
       "  Operating System  Rating  \n",
       "0            VIDAA     4.3  \n",
       "1          Android     4.4  \n",
       "2          Android     4.3  \n",
       "3          Android     4.4  \n",
       "4          Android     4.3  "
      ]
     },
     "execution_count": 3,
     "metadata": {},
     "output_type": "execute_result"
    }
   ],
   "source": [
    "df.head()"
   ]
  },
  {
   "cell_type": "code",
   "execution_count": 4,
   "id": "e676843b",
   "metadata": {},
   "outputs": [
    {
     "data": {
      "text/plain": [
       "(912, 7)"
      ]
     },
     "execution_count": 4,
     "metadata": {},
     "output_type": "execute_result"
    }
   ],
   "source": [
    "df.shape"
   ]
  },
  {
   "cell_type": "code",
   "execution_count": 5,
   "id": "6e722ed7",
   "metadata": {},
   "outputs": [
    {
     "name": "stdout",
     "output_type": "stream",
     "text": [
      "<class 'pandas.core.frame.DataFrame'>\n",
      "RangeIndex: 912 entries, 0 to 911\n",
      "Data columns (total 7 columns):\n",
      " #   Column            Non-Null Count  Dtype  \n",
      "---  ------            --------------  -----  \n",
      " 0   Brand             912 non-null    object \n",
      " 1   Resolution        912 non-null    object \n",
      " 2   Size              912 non-null    int64  \n",
      " 3   Selling Price     912 non-null    int64  \n",
      " 4   Original Price    912 non-null    int64  \n",
      " 5   Operating System  901 non-null    object \n",
      " 6   Rating            692 non-null    float64\n",
      "dtypes: float64(1), int64(3), object(3)\n",
      "memory usage: 50.0+ KB\n"
     ]
    }
   ],
   "source": [
    "df.info()"
   ]
  },
  {
   "cell_type": "code",
   "execution_count": 6,
   "id": "9195ab31",
   "metadata": {},
   "outputs": [
    {
     "data": {
      "text/plain": [
       "30"
      ]
     },
     "execution_count": 6,
     "metadata": {},
     "output_type": "execute_result"
    }
   ],
   "source": [
    "df.duplicated().sum()"
   ]
  },
  {
   "cell_type": "code",
   "execution_count": 7,
   "id": "f72e2171",
   "metadata": {},
   "outputs": [
    {
     "data": {
      "text/plain": [
       "Brand                 0\n",
       "Resolution            0\n",
       "Size                  0\n",
       "Selling Price         0\n",
       "Original Price        0\n",
       "Operating System     11\n",
       "Rating              220\n",
       "dtype: int64"
      ]
     },
     "execution_count": 7,
     "metadata": {},
     "output_type": "execute_result"
    }
   ],
   "source": [
    "df.isnull().sum()"
   ]
  },
  {
   "cell_type": "code",
   "execution_count": 8,
   "id": "39b580fc",
   "metadata": {},
   "outputs": [],
   "source": [
    "df.drop(columns=['Rating'],inplace=True)"
   ]
  },
  {
   "cell_type": "code",
   "execution_count": 9,
   "id": "e80af851",
   "metadata": {},
   "outputs": [],
   "source": [
    "df.drop(columns=['Original Price'],inplace=True)"
   ]
  },
  {
   "cell_type": "code",
   "execution_count": 10,
   "id": "67db2120",
   "metadata": {},
   "outputs": [
    {
     "data": {
      "text/html": [
       "<div>\n",
       "<style scoped>\n",
       "    .dataframe tbody tr th:only-of-type {\n",
       "        vertical-align: middle;\n",
       "    }\n",
       "\n",
       "    .dataframe tbody tr th {\n",
       "        vertical-align: top;\n",
       "    }\n",
       "\n",
       "    .dataframe thead th {\n",
       "        text-align: right;\n",
       "    }\n",
       "</style>\n",
       "<table border=\"1\" class=\"dataframe\">\n",
       "  <thead>\n",
       "    <tr style=\"text-align: right;\">\n",
       "      <th></th>\n",
       "      <th>Brand</th>\n",
       "      <th>Resolution</th>\n",
       "      <th>Size</th>\n",
       "      <th>Selling Price</th>\n",
       "      <th>Operating System</th>\n",
       "    </tr>\n",
       "  </thead>\n",
       "  <tbody>\n",
       "    <tr>\n",
       "      <th>0</th>\n",
       "      <td>TOSHIBA</td>\n",
       "      <td>Ultra HD LED</td>\n",
       "      <td>55</td>\n",
       "      <td>37999</td>\n",
       "      <td>VIDAA</td>\n",
       "    </tr>\n",
       "    <tr>\n",
       "      <th>1</th>\n",
       "      <td>TCL</td>\n",
       "      <td>QLED Ultra HD</td>\n",
       "      <td>55</td>\n",
       "      <td>52999</td>\n",
       "      <td>Android</td>\n",
       "    </tr>\n",
       "    <tr>\n",
       "      <th>2</th>\n",
       "      <td>realme</td>\n",
       "      <td>HD LED</td>\n",
       "      <td>32</td>\n",
       "      <td>13999</td>\n",
       "      <td>Android</td>\n",
       "    </tr>\n",
       "    <tr>\n",
       "      <th>3</th>\n",
       "      <td>Mi</td>\n",
       "      <td>HD LED</td>\n",
       "      <td>32</td>\n",
       "      <td>14999</td>\n",
       "      <td>Android</td>\n",
       "    </tr>\n",
       "    <tr>\n",
       "      <th>4</th>\n",
       "      <td>realme</td>\n",
       "      <td>HD LED</td>\n",
       "      <td>32</td>\n",
       "      <td>12999</td>\n",
       "      <td>Android</td>\n",
       "    </tr>\n",
       "  </tbody>\n",
       "</table>\n",
       "</div>"
      ],
      "text/plain": [
       "     Brand     Resolution  Size   Selling Price Operating System\n",
       "0  TOSHIBA   Ultra HD LED     55          37999            VIDAA\n",
       "1     TCL   QLED Ultra HD     55          52999          Android\n",
       "2  realme          HD LED     32          13999          Android\n",
       "3      Mi          HD LED     32          14999          Android\n",
       "4  realme          HD LED     32          12999          Android"
      ]
     },
     "execution_count": 10,
     "metadata": {},
     "output_type": "execute_result"
    }
   ],
   "source": [
    "df.head()"
   ]
  },
  {
   "cell_type": "code",
   "execution_count": 11,
   "id": "22dfe16d",
   "metadata": {},
   "outputs": [
    {
     "data": {
      "text/html": [
       "<div>\n",
       "<style scoped>\n",
       "    .dataframe tbody tr th:only-of-type {\n",
       "        vertical-align: middle;\n",
       "    }\n",
       "\n",
       "    .dataframe tbody tr th {\n",
       "        vertical-align: top;\n",
       "    }\n",
       "\n",
       "    .dataframe thead th {\n",
       "        text-align: right;\n",
       "    }\n",
       "</style>\n",
       "<table border=\"1\" class=\"dataframe\">\n",
       "  <thead>\n",
       "    <tr style=\"text-align: right;\">\n",
       "      <th></th>\n",
       "      <th>Brand</th>\n",
       "      <th>Resolution</th>\n",
       "      <th>Size</th>\n",
       "      <th>Selling Price</th>\n",
       "      <th>Operating System</th>\n",
       "    </tr>\n",
       "  </thead>\n",
       "  <tbody>\n",
       "    <tr>\n",
       "      <th>20</th>\n",
       "      <td>MarQ by Flipkart</td>\n",
       "      <td>HD LED</td>\n",
       "      <td>32</td>\n",
       "      <td>9999</td>\n",
       "      <td>NaN</td>\n",
       "    </tr>\n",
       "    <tr>\n",
       "      <th>414</th>\n",
       "      <td>Sun King</td>\n",
       "      <td>HD LED</td>\n",
       "      <td>32</td>\n",
       "      <td>24999</td>\n",
       "      <td>NaN</td>\n",
       "    </tr>\n",
       "    <tr>\n",
       "      <th>558</th>\n",
       "      <td>Skyworth</td>\n",
       "      <td>HD LED</td>\n",
       "      <td>24</td>\n",
       "      <td>8659</td>\n",
       "      <td>NaN</td>\n",
       "    </tr>\n",
       "    <tr>\n",
       "      <th>559</th>\n",
       "      <td>Maser</td>\n",
       "      <td>HD LED</td>\n",
       "      <td>24</td>\n",
       "      <td>7499</td>\n",
       "      <td>NaN</td>\n",
       "    </tr>\n",
       "    <tr>\n",
       "      <th>585</th>\n",
       "      <td>MURPHY</td>\n",
       "      <td>Full HD LED</td>\n",
       "      <td>32</td>\n",
       "      <td>12990</td>\n",
       "      <td>NaN</td>\n",
       "    </tr>\n",
       "    <tr>\n",
       "      <th>813</th>\n",
       "      <td>MarQ by Flipkart</td>\n",
       "      <td>HD LED</td>\n",
       "      <td>24</td>\n",
       "      <td>7499</td>\n",
       "      <td>NaN</td>\n",
       "    </tr>\n",
       "    <tr>\n",
       "      <th>814</th>\n",
       "      <td>MarQ by Flipkart</td>\n",
       "      <td>Full HD LED</td>\n",
       "      <td>24</td>\n",
       "      <td>6999</td>\n",
       "      <td>NaN</td>\n",
       "    </tr>\n",
       "    <tr>\n",
       "      <th>815</th>\n",
       "      <td>MarQ by Flipkart</td>\n",
       "      <td>Full HD LED</td>\n",
       "      <td>32</td>\n",
       "      <td>9499</td>\n",
       "      <td>NaN</td>\n",
       "    </tr>\n",
       "    <tr>\n",
       "      <th>828</th>\n",
       "      <td>MURPHY</td>\n",
       "      <td>Full HD LED</td>\n",
       "      <td>32</td>\n",
       "      <td>13990</td>\n",
       "      <td>NaN</td>\n",
       "    </tr>\n",
       "    <tr>\n",
       "      <th>829</th>\n",
       "      <td>MURPHY</td>\n",
       "      <td>HD LED</td>\n",
       "      <td>24</td>\n",
       "      <td>7490</td>\n",
       "      <td>NaN</td>\n",
       "    </tr>\n",
       "    <tr>\n",
       "      <th>851</th>\n",
       "      <td>PHILIPS</td>\n",
       "      <td>Full HD LED</td>\n",
       "      <td>22</td>\n",
       "      <td>6649</td>\n",
       "      <td>NaN</td>\n",
       "    </tr>\n",
       "  </tbody>\n",
       "</table>\n",
       "</div>"
      ],
      "text/plain": [
       "                Brand   Resolution  Size   Selling Price Operating System\n",
       "20   MarQ by Flipkart       HD LED     32           9999              NaN\n",
       "414          Sun King       HD LED     32          24999              NaN\n",
       "558          Skyworth       HD LED     24           8659              NaN\n",
       "559            Maser        HD LED     24           7499              NaN\n",
       "585           MURPHY   Full HD LED     32          12990              NaN\n",
       "813  MarQ by Flipkart       HD LED     24           7499              NaN\n",
       "814  MarQ by Flipkart  Full HD LED     24           6999              NaN\n",
       "815  MarQ by Flipkart  Full HD LED     32           9499              NaN\n",
       "828           MURPHY   Full HD LED     32          13990              NaN\n",
       "829           MURPHY        HD LED     24           7490              NaN\n",
       "851           PHILIPS  Full HD LED     22           6649              NaN"
      ]
     },
     "execution_count": 11,
     "metadata": {},
     "output_type": "execute_result"
    }
   ],
   "source": [
    "null_os_records = df[df['Operating System'].isnull()]\n",
    "null_os_records"
   ]
  },
  {
   "cell_type": "code",
   "execution_count": 12,
   "id": "ef784687",
   "metadata": {},
   "outputs": [
    {
     "data": {
      "text/plain": [
       "Operating System\n",
       "Android      474\n",
       "Tizen        145\n",
       "Linux        127\n",
       "WebOS        109\n",
       "HomeOS        28\n",
       "VIDAA         13\n",
       "NaN           11\n",
       "FireTV OS      5\n",
       "Name: count, dtype: int64"
      ]
     },
     "execution_count": 12,
     "metadata": {},
     "output_type": "execute_result"
    }
   ],
   "source": [
    "os_value_counts = df['Operating System'].value_counts(dropna=False)\n",
    "os_value_counts"
   ]
  },
  {
   "cell_type": "code",
   "execution_count": 13,
   "id": "89cadf67",
   "metadata": {},
   "outputs": [],
   "source": [
    "df['Operating System'] = df['Operating System'].fillna('No OS')"
   ]
  },
  {
   "cell_type": "code",
   "execution_count": 14,
   "id": "537b3759",
   "metadata": {},
   "outputs": [
    {
     "data": {
      "text/plain": [
       "Operating System\n",
       "Android      474\n",
       "Tizen        145\n",
       "Linux        127\n",
       "WebOS        109\n",
       "HomeOS        28\n",
       "VIDAA         13\n",
       "No OS         11\n",
       "FireTV OS      5\n",
       "Name: count, dtype: int64"
      ]
     },
     "execution_count": 14,
     "metadata": {},
     "output_type": "execute_result"
    }
   ],
   "source": [
    "os_value_counts = df['Operating System'].value_counts(dropna=False)\n",
    "os_value_counts"
   ]
  },
  {
   "cell_type": "code",
   "execution_count": 15,
   "id": "1be1669c",
   "metadata": {},
   "outputs": [
    {
     "data": {
      "text/plain": [
       "Brand               0\n",
       "Resolution          0\n",
       "Size                0\n",
       "Selling Price       0\n",
       "Operating System    0\n",
       "dtype: int64"
      ]
     },
     "execution_count": 15,
     "metadata": {},
     "output_type": "execute_result"
    }
   ],
   "source": [
    "df.isnull().sum()"
   ]
  },
  {
   "cell_type": "code",
   "execution_count": 16,
   "id": "360b7878",
   "metadata": {},
   "outputs": [
    {
     "data": {
      "text/plain": [
       "(912, 5)"
      ]
     },
     "execution_count": 16,
     "metadata": {},
     "output_type": "execute_result"
    }
   ],
   "source": [
    "df.shape"
   ]
  },
  {
   "cell_type": "code",
   "execution_count": 17,
   "id": "2fc28b07",
   "metadata": {},
   "outputs": [
    {
     "name": "stdout",
     "output_type": "stream",
     "text": [
      "<class 'pandas.core.frame.DataFrame'>\n",
      "RangeIndex: 912 entries, 0 to 911\n",
      "Data columns (total 5 columns):\n",
      " #   Column            Non-Null Count  Dtype \n",
      "---  ------            --------------  ----- \n",
      " 0   Brand             912 non-null    object\n",
      " 1   Resolution        912 non-null    object\n",
      " 2   Size              912 non-null    int64 \n",
      " 3   Selling Price     912 non-null    int64 \n",
      " 4   Operating System  912 non-null    object\n",
      "dtypes: int64(2), object(3)\n",
      "memory usage: 35.8+ KB\n"
     ]
    }
   ],
   "source": [
    "df.info()"
   ]
  },
  {
   "cell_type": "code",
   "execution_count": 18,
   "id": "8d808af9",
   "metadata": {},
   "outputs": [
    {
     "data": {
      "text/plain": [
       "Brand\n",
       "SAMSUNG             140\n",
       "LG                  122\n",
       "SONY                 62\n",
       "TCL                  44\n",
       "Panasonic            30\n",
       "Micromax             25\n",
       "Vu                   23\n",
       "Lloyd                22\n",
       "Mi                   19\n",
       "iFFALCON by TCL      19\n",
       "Thomson              18\n",
       "Haier                18\n",
       "Sansui               18\n",
       "PHILIPS              17\n",
       "Blaupunkt            15\n",
       "KODAK                15\n",
       "MOTOROLA             15\n",
       "IMPEX                13\n",
       "TOSHIBA              13\n",
       "Croma                12\n",
       "Candes               12\n",
       "Onida                12\n",
       "Power Guard          11\n",
       "Nokia                11\n",
       "T-Series             11\n",
       "Hisense              10\n",
       "CloudWalker           9\n",
       "OnePlus               9\n",
       "RGL                   9\n",
       "Acer                  9\n",
       "Coocaa                9\n",
       "AISEN                 8\n",
       "MarQ by Flipkart      8\n",
       "Sharp                 8\n",
       "Onix                  8\n",
       "G-TEN                 8\n",
       "realme                7\n",
       "Adsun                 7\n",
       "Intex                 7\n",
       "Samsung               6\n",
       "JVC                   6\n",
       "Dyanora               6\n",
       "HUIDI                 6\n",
       "Akai                  6\n",
       "LumX                  6\n",
       "Weston                5\n",
       "Compaq                5\n",
       "VG                    4\n",
       "MURPHY                4\n",
       "BPL                   4\n",
       "Dektron               4\n",
       "KRISONS               3\n",
       "DETEL                 3\n",
       "Oxygen                3\n",
       "Infinix               3\n",
       "Sanyo                 2\n",
       "Sun King              1\n",
       "Skyworth              1\n",
       "Maser                 1\n",
       "Name: count, dtype: int64"
      ]
     },
     "execution_count": 18,
     "metadata": {},
     "output_type": "execute_result"
    }
   ],
   "source": [
    "df['Brand'].value_counts()"
   ]
  },
  {
   "cell_type": "code",
   "execution_count": 19,
   "id": "84113663",
   "metadata": {},
   "outputs": [],
   "source": [
    "df['Brand'] = df['Brand'].replace(['Samsung'], 'SAMSUNG')"
   ]
  },
  {
   "cell_type": "code",
   "execution_count": 20,
   "id": "7d0fca52",
   "metadata": {},
   "outputs": [
    {
     "data": {
      "text/plain": [
       "Brand\n",
       "SAMSUNG             146\n",
       "LG                  122\n",
       "SONY                 62\n",
       "TCL                  44\n",
       "Panasonic            30\n",
       "Micromax             25\n",
       "Vu                   23\n",
       "Lloyd                22\n",
       "Mi                   19\n",
       "iFFALCON by TCL      19\n",
       "Thomson              18\n",
       "Haier                18\n",
       "Sansui               18\n",
       "PHILIPS              17\n",
       "Blaupunkt            15\n",
       "KODAK                15\n",
       "MOTOROLA             15\n",
       "IMPEX                13\n",
       "TOSHIBA              13\n",
       "Croma                12\n",
       "Candes               12\n",
       "Onida                12\n",
       "T-Series             11\n",
       "Power Guard          11\n",
       "Nokia                11\n",
       "Hisense              10\n",
       "Acer                  9\n",
       "Coocaa                9\n",
       "RGL                   9\n",
       "OnePlus               9\n",
       "CloudWalker           9\n",
       "Onix                  8\n",
       "Sharp                 8\n",
       "G-TEN                 8\n",
       "AISEN                 8\n",
       "MarQ by Flipkart      8\n",
       "realme                7\n",
       "Intex                 7\n",
       "Adsun                 7\n",
       "LumX                  6\n",
       "Dyanora               6\n",
       "Akai                  6\n",
       "HUIDI                 6\n",
       "JVC                   6\n",
       "Weston                5\n",
       "Compaq                5\n",
       "MURPHY                4\n",
       "VG                    4\n",
       "BPL                   4\n",
       "Dektron               4\n",
       "KRISONS               3\n",
       "DETEL                 3\n",
       "Infinix               3\n",
       "Oxygen                3\n",
       "Sanyo                 2\n",
       "Maser                 1\n",
       "Skyworth              1\n",
       "Sun King              1\n",
       "Name: count, dtype: int64"
      ]
     },
     "execution_count": 20,
     "metadata": {},
     "output_type": "execute_result"
    }
   ],
   "source": [
    "df['Brand'].value_counts()"
   ]
  },
  {
   "cell_type": "code",
   "execution_count": 21,
   "id": "ee19183d",
   "metadata": {},
   "outputs": [],
   "source": [
    "selected_brands = [\n",
    "    'SAMSUNG', 'LG', 'SONY', 'TCL', 'Panasonic', 'Micromax', 'Vu', 'Lloyd', 'Mi',\n",
    "    'iFFALCON by TCL', 'Thomson', 'Haier', 'Sansui', 'PHILIPS', 'KODAK', 'MOTOROLA',\n",
    "    'TOSHIBA', 'Croma', 'Onida', 'Nokia', 'Hisense', 'Acer', 'OnePlus',\n",
    "    'MarQ by Flipkart', 'realme', 'Intex', 'Infinix'\n",
    "]\n",
    "\n",
    "df = df[df['Brand'].isin(selected_brands)]"
   ]
  },
  {
   "cell_type": "code",
   "execution_count": 22,
   "id": "4243949d",
   "metadata": {},
   "outputs": [
    {
     "data": {
      "text/plain": [
       "Brand\n",
       "SAMSUNG             146\n",
       "Panasonic            30\n",
       "Micromax             25\n",
       "Vu                   23\n",
       "iFFALCON by TCL      19\n",
       "Thomson              18\n",
       "PHILIPS              17\n",
       "MOTOROLA             15\n",
       "TOSHIBA              13\n",
       "Onida                12\n",
       "Hisense              10\n",
       "OnePlus               9\n",
       "Acer                  9\n",
       "MarQ by Flipkart      8\n",
       "Infinix               3\n",
       "Name: count, dtype: int64"
      ]
     },
     "execution_count": 22,
     "metadata": {},
     "output_type": "execute_result"
    }
   ],
   "source": [
    "df['Brand'].value_counts()"
   ]
  },
  {
   "cell_type": "code",
   "execution_count": 23,
   "id": "df9c1b0e",
   "metadata": {},
   "outputs": [
    {
     "data": {
      "text/plain": [
       "(357, 5)"
      ]
     },
     "execution_count": 23,
     "metadata": {},
     "output_type": "execute_result"
    }
   ],
   "source": [
    "df.shape"
   ]
  },
  {
   "cell_type": "code",
   "execution_count": 24,
   "id": "eadbf8d1",
   "metadata": {},
   "outputs": [
    {
     "data": {
      "text/html": [
       "<div>\n",
       "<style scoped>\n",
       "    .dataframe tbody tr th:only-of-type {\n",
       "        vertical-align: middle;\n",
       "    }\n",
       "\n",
       "    .dataframe tbody tr th {\n",
       "        vertical-align: top;\n",
       "    }\n",
       "\n",
       "    .dataframe thead th {\n",
       "        text-align: right;\n",
       "    }\n",
       "</style>\n",
       "<table border=\"1\" class=\"dataframe\">\n",
       "  <thead>\n",
       "    <tr style=\"text-align: right;\">\n",
       "      <th></th>\n",
       "      <th>Brand</th>\n",
       "      <th>Resolution</th>\n",
       "      <th>Size</th>\n",
       "      <th>Selling Price</th>\n",
       "      <th>Operating System</th>\n",
       "    </tr>\n",
       "  </thead>\n",
       "  <tbody>\n",
       "    <tr>\n",
       "      <th>0</th>\n",
       "      <td>TOSHIBA</td>\n",
       "      <td>Ultra HD LED</td>\n",
       "      <td>55</td>\n",
       "      <td>37999</td>\n",
       "      <td>VIDAA</td>\n",
       "    </tr>\n",
       "    <tr>\n",
       "      <th>5</th>\n",
       "      <td>OnePlus</td>\n",
       "      <td>HD LED</td>\n",
       "      <td>32</td>\n",
       "      <td>15999</td>\n",
       "      <td>Android</td>\n",
       "    </tr>\n",
       "    <tr>\n",
       "      <th>6</th>\n",
       "      <td>OnePlus</td>\n",
       "      <td>Full HD LED</td>\n",
       "      <td>43</td>\n",
       "      <td>25999</td>\n",
       "      <td>Android</td>\n",
       "    </tr>\n",
       "    <tr>\n",
       "      <th>11</th>\n",
       "      <td>Hisense</td>\n",
       "      <td>Ultra HD LED</td>\n",
       "      <td>55</td>\n",
       "      <td>36999</td>\n",
       "      <td>Android</td>\n",
       "    </tr>\n",
       "    <tr>\n",
       "      <th>15</th>\n",
       "      <td>Hisense</td>\n",
       "      <td>Ultra HD LED</td>\n",
       "      <td>70</td>\n",
       "      <td>89999</td>\n",
       "      <td>Android</td>\n",
       "    </tr>\n",
       "  </tbody>\n",
       "</table>\n",
       "</div>"
      ],
      "text/plain": [
       "      Brand    Resolution  Size   Selling Price Operating System\n",
       "0   TOSHIBA  Ultra HD LED     55          37999            VIDAA\n",
       "5   OnePlus        HD LED     32          15999          Android\n",
       "6   OnePlus   Full HD LED     43          25999          Android\n",
       "11  Hisense  Ultra HD LED     55          36999          Android\n",
       "15  Hisense  Ultra HD LED     70          89999          Android"
      ]
     },
     "execution_count": 24,
     "metadata": {},
     "output_type": "execute_result"
    }
   ],
   "source": [
    "df.head()"
   ]
  },
  {
   "cell_type": "code",
   "execution_count": 25,
   "id": "a2e15f2b",
   "metadata": {},
   "outputs": [
    {
     "name": "stdout",
     "output_type": "stream",
     "text": [
      "<class 'pandas.core.frame.DataFrame'>\n",
      "Index: 357 entries, 0 to 879\n",
      "Data columns (total 5 columns):\n",
      " #   Column            Non-Null Count  Dtype \n",
      "---  ------            --------------  ----- \n",
      " 0   Brand             357 non-null    object\n",
      " 1   Resolution        357 non-null    object\n",
      " 2   Size              357 non-null    int64 \n",
      " 3   Selling Price     357 non-null    int64 \n",
      " 4   Operating System  357 non-null    object\n",
      "dtypes: int64(2), object(3)\n",
      "memory usage: 16.7+ KB\n"
     ]
    }
   ],
   "source": [
    "df.info()"
   ]
  },
  {
   "cell_type": "code",
   "execution_count": 26,
   "id": "f0eada8c",
   "metadata": {},
   "outputs": [
    {
     "data": {
      "text/plain": [
       "Resolution\n",
       "Ultra HD LED     154\n",
       "Full HD LED       89\n",
       "HD LED            66\n",
       "QLED Ultra HD     46\n",
       "HD Plasma          2\n",
       "Name: count, dtype: int64"
      ]
     },
     "execution_count": 26,
     "metadata": {},
     "output_type": "execute_result"
    }
   ],
   "source": [
    "df['Resolution'].value_counts()"
   ]
  },
  {
   "cell_type": "code",
   "execution_count": 27,
   "id": "faaee93d",
   "metadata": {},
   "outputs": [],
   "source": [
    "df.rename(columns={'Size ': 'Size'}, inplace=True)"
   ]
  },
  {
   "cell_type": "code",
   "execution_count": 28,
   "id": "00bbad5b",
   "metadata": {},
   "outputs": [
    {
     "name": "stdout",
     "output_type": "stream",
     "text": [
      "<class 'pandas.core.frame.DataFrame'>\n",
      "Index: 357 entries, 0 to 879\n",
      "Data columns (total 5 columns):\n",
      " #   Column            Non-Null Count  Dtype \n",
      "---  ------            --------------  ----- \n",
      " 0   Brand             357 non-null    object\n",
      " 1   Resolution        357 non-null    object\n",
      " 2   Size              357 non-null    int64 \n",
      " 3   Selling Price     357 non-null    int64 \n",
      " 4   Operating System  357 non-null    object\n",
      "dtypes: int64(2), object(3)\n",
      "memory usage: 16.7+ KB\n"
     ]
    }
   ],
   "source": [
    "df.info()"
   ]
  },
  {
   "cell_type": "code",
   "execution_count": 29,
   "id": "a71389be",
   "metadata": {},
   "outputs": [
    {
     "data": {
      "text/html": [
       "<div>\n",
       "<style scoped>\n",
       "    .dataframe tbody tr th:only-of-type {\n",
       "        vertical-align: middle;\n",
       "    }\n",
       "\n",
       "    .dataframe tbody tr th {\n",
       "        vertical-align: top;\n",
       "    }\n",
       "\n",
       "    .dataframe thead th {\n",
       "        text-align: right;\n",
       "    }\n",
       "</style>\n",
       "<table border=\"1\" class=\"dataframe\">\n",
       "  <thead>\n",
       "    <tr style=\"text-align: right;\">\n",
       "      <th></th>\n",
       "      <th>Brand</th>\n",
       "      <th>Resolution</th>\n",
       "      <th>Size</th>\n",
       "      <th>Selling Price</th>\n",
       "      <th>Operating System</th>\n",
       "    </tr>\n",
       "  </thead>\n",
       "  <tbody>\n",
       "    <tr>\n",
       "      <th>0</th>\n",
       "      <td>TOSHIBA</td>\n",
       "      <td>Ultra HD LED</td>\n",
       "      <td>55</td>\n",
       "      <td>37999</td>\n",
       "      <td>VIDAA</td>\n",
       "    </tr>\n",
       "    <tr>\n",
       "      <th>5</th>\n",
       "      <td>OnePlus</td>\n",
       "      <td>HD LED</td>\n",
       "      <td>32</td>\n",
       "      <td>15999</td>\n",
       "      <td>Android</td>\n",
       "    </tr>\n",
       "    <tr>\n",
       "      <th>6</th>\n",
       "      <td>OnePlus</td>\n",
       "      <td>Full HD LED</td>\n",
       "      <td>43</td>\n",
       "      <td>25999</td>\n",
       "      <td>Android</td>\n",
       "    </tr>\n",
       "    <tr>\n",
       "      <th>11</th>\n",
       "      <td>Hisense</td>\n",
       "      <td>Ultra HD LED</td>\n",
       "      <td>55</td>\n",
       "      <td>36999</td>\n",
       "      <td>Android</td>\n",
       "    </tr>\n",
       "    <tr>\n",
       "      <th>15</th>\n",
       "      <td>Hisense</td>\n",
       "      <td>Ultra HD LED</td>\n",
       "      <td>70</td>\n",
       "      <td>89999</td>\n",
       "      <td>Android</td>\n",
       "    </tr>\n",
       "  </tbody>\n",
       "</table>\n",
       "</div>"
      ],
      "text/plain": [
       "      Brand    Resolution  Size  Selling Price Operating System\n",
       "0   TOSHIBA  Ultra HD LED    55          37999            VIDAA\n",
       "5   OnePlus        HD LED    32          15999          Android\n",
       "6   OnePlus   Full HD LED    43          25999          Android\n",
       "11  Hisense  Ultra HD LED    55          36999          Android\n",
       "15  Hisense  Ultra HD LED    70          89999          Android"
      ]
     },
     "execution_count": 29,
     "metadata": {},
     "output_type": "execute_result"
    }
   ],
   "source": [
    "df.head()"
   ]
  },
  {
   "cell_type": "code",
   "execution_count": 30,
   "id": "9e1d3300",
   "metadata": {},
   "outputs": [
    {
     "data": {
      "text/plain": [
       "Size\n",
       "55    73\n",
       "43    73\n",
       "32    62\n",
       "65    44\n",
       "50    32\n",
       "49    20\n",
       "40    15\n",
       "24     8\n",
       "75     7\n",
       "58     5\n",
       "42     3\n",
       "46     3\n",
       "70     2\n",
       "39     2\n",
       "48     2\n",
       "20     2\n",
       "22     2\n",
       "85     1\n",
       "60     1\n",
       "Name: count, dtype: int64"
      ]
     },
     "execution_count": 30,
     "metadata": {},
     "output_type": "execute_result"
    }
   ],
   "source": [
    "df['Size'].value_counts()"
   ]
  },
  {
   "cell_type": "code",
   "execution_count": 31,
   "id": "48f31f2b",
   "metadata": {},
   "outputs": [
    {
     "data": {
      "text/plain": [
       "Selling Price\n",
       "36999     5\n",
       "18999     5\n",
       "34999     5\n",
       "28999     5\n",
       "11999     5\n",
       "         ..\n",
       "69990     1\n",
       "45785     1\n",
       "121999    1\n",
       "159990    1\n",
       "96999     1\n",
       "Name: count, Length: 249, dtype: int64"
      ]
     },
     "execution_count": 31,
     "metadata": {},
     "output_type": "execute_result"
    }
   ],
   "source": [
    "df['Selling Price'].value_counts()"
   ]
  },
  {
   "cell_type": "code",
   "execution_count": 32,
   "id": "7f584520",
   "metadata": {},
   "outputs": [
    {
     "data": {
      "text/plain": [
       "Operating System\n",
       "Android    167\n",
       "Tizen      145\n",
       "Linux       24\n",
       "VIDAA       13\n",
       "No OS        5\n",
       "HomeOS       3\n",
       "Name: count, dtype: int64"
      ]
     },
     "execution_count": 32,
     "metadata": {},
     "output_type": "execute_result"
    }
   ],
   "source": [
    "df['Operating System'].value_counts()"
   ]
  },
  {
   "cell_type": "code",
   "execution_count": 33,
   "id": "73ba027c",
   "metadata": {},
   "outputs": [
    {
     "data": {
      "text/plain": [
       "(357, 5)"
      ]
     },
     "execution_count": 33,
     "metadata": {},
     "output_type": "execute_result"
    }
   ],
   "source": [
    "df.shape"
   ]
  },
  {
   "cell_type": "code",
   "execution_count": 34,
   "id": "9ae36992",
   "metadata": {},
   "outputs": [
    {
     "data": {
      "text/html": [
       "<div>\n",
       "<style scoped>\n",
       "    .dataframe tbody tr th:only-of-type {\n",
       "        vertical-align: middle;\n",
       "    }\n",
       "\n",
       "    .dataframe tbody tr th {\n",
       "        vertical-align: top;\n",
       "    }\n",
       "\n",
       "    .dataframe thead th {\n",
       "        text-align: right;\n",
       "    }\n",
       "</style>\n",
       "<table border=\"1\" class=\"dataframe\">\n",
       "  <thead>\n",
       "    <tr style=\"text-align: right;\">\n",
       "      <th></th>\n",
       "      <th>Brand</th>\n",
       "      <th>Resolution</th>\n",
       "      <th>Size</th>\n",
       "      <th>Selling Price</th>\n",
       "      <th>Operating System</th>\n",
       "    </tr>\n",
       "  </thead>\n",
       "  <tbody>\n",
       "    <tr>\n",
       "      <th>0</th>\n",
       "      <td>TOSHIBA</td>\n",
       "      <td>Ultra HD LED</td>\n",
       "      <td>55</td>\n",
       "      <td>37999</td>\n",
       "      <td>VIDAA</td>\n",
       "    </tr>\n",
       "    <tr>\n",
       "      <th>5</th>\n",
       "      <td>OnePlus</td>\n",
       "      <td>HD LED</td>\n",
       "      <td>32</td>\n",
       "      <td>15999</td>\n",
       "      <td>Android</td>\n",
       "    </tr>\n",
       "    <tr>\n",
       "      <th>6</th>\n",
       "      <td>OnePlus</td>\n",
       "      <td>Full HD LED</td>\n",
       "      <td>43</td>\n",
       "      <td>25999</td>\n",
       "      <td>Android</td>\n",
       "    </tr>\n",
       "    <tr>\n",
       "      <th>11</th>\n",
       "      <td>Hisense</td>\n",
       "      <td>Ultra HD LED</td>\n",
       "      <td>55</td>\n",
       "      <td>36999</td>\n",
       "      <td>Android</td>\n",
       "    </tr>\n",
       "    <tr>\n",
       "      <th>15</th>\n",
       "      <td>Hisense</td>\n",
       "      <td>Ultra HD LED</td>\n",
       "      <td>70</td>\n",
       "      <td>89999</td>\n",
       "      <td>Android</td>\n",
       "    </tr>\n",
       "  </tbody>\n",
       "</table>\n",
       "</div>"
      ],
      "text/plain": [
       "      Brand    Resolution  Size  Selling Price Operating System\n",
       "0   TOSHIBA  Ultra HD LED    55          37999            VIDAA\n",
       "5   OnePlus        HD LED    32          15999          Android\n",
       "6   OnePlus   Full HD LED    43          25999          Android\n",
       "11  Hisense  Ultra HD LED    55          36999          Android\n",
       "15  Hisense  Ultra HD LED    70          89999          Android"
      ]
     },
     "execution_count": 34,
     "metadata": {},
     "output_type": "execute_result"
    }
   ],
   "source": [
    "df.head()"
   ]
  },
  {
   "cell_type": "code",
   "execution_count": 35,
   "id": "a9c6379f",
   "metadata": {},
   "outputs": [
    {
     "name": "stdout",
     "output_type": "stream",
     "text": [
      "<class 'pandas.core.frame.DataFrame'>\n",
      "Index: 357 entries, 0 to 879\n",
      "Data columns (total 5 columns):\n",
      " #   Column            Non-Null Count  Dtype \n",
      "---  ------            --------------  ----- \n",
      " 0   Brand             357 non-null    object\n",
      " 1   Resolution        357 non-null    object\n",
      " 2   Size              357 non-null    int64 \n",
      " 3   Selling Price     357 non-null    int64 \n",
      " 4   Operating System  357 non-null    object\n",
      "dtypes: int64(2), object(3)\n",
      "memory usage: 16.7+ KB\n"
     ]
    }
   ],
   "source": [
    "df.info()"
   ]
  },
  {
   "cell_type": "code",
   "execution_count": 36,
   "id": "829077ef",
   "metadata": {},
   "outputs": [],
   "source": [
    "X = df.drop(columns=['Selling Price'])\n",
    "y = np.log(df['Selling Price'])"
   ]
  },
  {
   "cell_type": "code",
   "execution_count": 37,
   "id": "5e34a286",
   "metadata": {},
   "outputs": [
    {
     "data": {
      "text/html": [
       "<div>\n",
       "<style scoped>\n",
       "    .dataframe tbody tr th:only-of-type {\n",
       "        vertical-align: middle;\n",
       "    }\n",
       "\n",
       "    .dataframe tbody tr th {\n",
       "        vertical-align: top;\n",
       "    }\n",
       "\n",
       "    .dataframe thead th {\n",
       "        text-align: right;\n",
       "    }\n",
       "</style>\n",
       "<table border=\"1\" class=\"dataframe\">\n",
       "  <thead>\n",
       "    <tr style=\"text-align: right;\">\n",
       "      <th></th>\n",
       "      <th>Brand</th>\n",
       "      <th>Resolution</th>\n",
       "      <th>Size</th>\n",
       "      <th>Operating System</th>\n",
       "    </tr>\n",
       "  </thead>\n",
       "  <tbody>\n",
       "    <tr>\n",
       "      <th>0</th>\n",
       "      <td>TOSHIBA</td>\n",
       "      <td>Ultra HD LED</td>\n",
       "      <td>55</td>\n",
       "      <td>VIDAA</td>\n",
       "    </tr>\n",
       "    <tr>\n",
       "      <th>5</th>\n",
       "      <td>OnePlus</td>\n",
       "      <td>HD LED</td>\n",
       "      <td>32</td>\n",
       "      <td>Android</td>\n",
       "    </tr>\n",
       "    <tr>\n",
       "      <th>6</th>\n",
       "      <td>OnePlus</td>\n",
       "      <td>Full HD LED</td>\n",
       "      <td>43</td>\n",
       "      <td>Android</td>\n",
       "    </tr>\n",
       "    <tr>\n",
       "      <th>11</th>\n",
       "      <td>Hisense</td>\n",
       "      <td>Ultra HD LED</td>\n",
       "      <td>55</td>\n",
       "      <td>Android</td>\n",
       "    </tr>\n",
       "    <tr>\n",
       "      <th>15</th>\n",
       "      <td>Hisense</td>\n",
       "      <td>Ultra HD LED</td>\n",
       "      <td>70</td>\n",
       "      <td>Android</td>\n",
       "    </tr>\n",
       "    <tr>\n",
       "      <th>...</th>\n",
       "      <td>...</td>\n",
       "      <td>...</td>\n",
       "      <td>...</td>\n",
       "      <td>...</td>\n",
       "    </tr>\n",
       "    <tr>\n",
       "      <th>869</th>\n",
       "      <td>Vu</td>\n",
       "      <td>Ultra HD LED</td>\n",
       "      <td>50</td>\n",
       "      <td>Linux</td>\n",
       "    </tr>\n",
       "    <tr>\n",
       "      <th>876</th>\n",
       "      <td>TOSHIBA</td>\n",
       "      <td>Full HD LED</td>\n",
       "      <td>43</td>\n",
       "      <td>VIDAA</td>\n",
       "    </tr>\n",
       "    <tr>\n",
       "      <th>877</th>\n",
       "      <td>TOSHIBA</td>\n",
       "      <td>Ultra HD LED</td>\n",
       "      <td>65</td>\n",
       "      <td>VIDAA</td>\n",
       "    </tr>\n",
       "    <tr>\n",
       "      <th>878</th>\n",
       "      <td>TOSHIBA</td>\n",
       "      <td>Full HD LED</td>\n",
       "      <td>49</td>\n",
       "      <td>VIDAA</td>\n",
       "    </tr>\n",
       "    <tr>\n",
       "      <th>879</th>\n",
       "      <td>TOSHIBA</td>\n",
       "      <td>Ultra HD LED</td>\n",
       "      <td>65</td>\n",
       "      <td>VIDAA</td>\n",
       "    </tr>\n",
       "  </tbody>\n",
       "</table>\n",
       "<p>357 rows × 4 columns</p>\n",
       "</div>"
      ],
      "text/plain": [
       "       Brand    Resolution  Size Operating System\n",
       "0    TOSHIBA  Ultra HD LED    55            VIDAA\n",
       "5    OnePlus        HD LED    32          Android\n",
       "6    OnePlus   Full HD LED    43          Android\n",
       "11   Hisense  Ultra HD LED    55          Android\n",
       "15   Hisense  Ultra HD LED    70          Android\n",
       "..       ...           ...   ...              ...\n",
       "869       Vu  Ultra HD LED    50            Linux\n",
       "876  TOSHIBA   Full HD LED    43            VIDAA\n",
       "877  TOSHIBA  Ultra HD LED    65            VIDAA\n",
       "878  TOSHIBA   Full HD LED    49            VIDAA\n",
       "879  TOSHIBA  Ultra HD LED    65            VIDAA\n",
       "\n",
       "[357 rows x 4 columns]"
      ]
     },
     "execution_count": 37,
     "metadata": {},
     "output_type": "execute_result"
    }
   ],
   "source": [
    "X"
   ]
  },
  {
   "cell_type": "code",
   "execution_count": 38,
   "id": "5018f6d4",
   "metadata": {},
   "outputs": [
    {
     "data": {
      "text/plain": [
       "0      10.545315\n",
       "5       9.680281\n",
       "6      10.165813\n",
       "11     10.518646\n",
       "15     11.407554\n",
       "         ...    \n",
       "869    10.179603\n",
       "876    10.126591\n",
       "877    11.112433\n",
       "878    10.308919\n",
       "879    11.482456\n",
       "Name: Selling Price, Length: 357, dtype: float64"
      ]
     },
     "execution_count": 38,
     "metadata": {},
     "output_type": "execute_result"
    }
   ],
   "source": [
    "y"
   ]
  },
  {
   "cell_type": "code",
   "execution_count": 39,
   "id": "08814226",
   "metadata": {},
   "outputs": [],
   "source": [
    "from sklearn.model_selection import train_test_split\n",
    "X_train,X_test,y_train,y_test = train_test_split(X,y,test_size=0.20, random_state=42)"
   ]
  },
  {
   "cell_type": "code",
   "execution_count": 40,
   "id": "6f0ff0ad",
   "metadata": {},
   "outputs": [
    {
     "data": {
      "text/html": [
       "<div>\n",
       "<style scoped>\n",
       "    .dataframe tbody tr th:only-of-type {\n",
       "        vertical-align: middle;\n",
       "    }\n",
       "\n",
       "    .dataframe tbody tr th {\n",
       "        vertical-align: top;\n",
       "    }\n",
       "\n",
       "    .dataframe thead th {\n",
       "        text-align: right;\n",
       "    }\n",
       "</style>\n",
       "<table border=\"1\" class=\"dataframe\">\n",
       "  <thead>\n",
       "    <tr style=\"text-align: right;\">\n",
       "      <th></th>\n",
       "      <th>Brand</th>\n",
       "      <th>Resolution</th>\n",
       "      <th>Size</th>\n",
       "      <th>Operating System</th>\n",
       "    </tr>\n",
       "  </thead>\n",
       "  <tbody>\n",
       "    <tr>\n",
       "      <th>657</th>\n",
       "      <td>Panasonic</td>\n",
       "      <td>Full HD LED</td>\n",
       "      <td>40</td>\n",
       "      <td>Android</td>\n",
       "    </tr>\n",
       "    <tr>\n",
       "      <th>831</th>\n",
       "      <td>OnePlus</td>\n",
       "      <td>Ultra HD LED</td>\n",
       "      <td>50</td>\n",
       "      <td>Android</td>\n",
       "    </tr>\n",
       "    <tr>\n",
       "      <th>673</th>\n",
       "      <td>Panasonic</td>\n",
       "      <td>Ultra HD LED</td>\n",
       "      <td>55</td>\n",
       "      <td>Android</td>\n",
       "    </tr>\n",
       "    <tr>\n",
       "      <th>149</th>\n",
       "      <td>MOTOROLA</td>\n",
       "      <td>Ultra HD LED</td>\n",
       "      <td>43</td>\n",
       "      <td>Android</td>\n",
       "    </tr>\n",
       "    <tr>\n",
       "      <th>591</th>\n",
       "      <td>Vu</td>\n",
       "      <td>Ultra HD LED</td>\n",
       "      <td>50</td>\n",
       "      <td>Android</td>\n",
       "    </tr>\n",
       "    <tr>\n",
       "      <th>...</th>\n",
       "      <td>...</td>\n",
       "      <td>...</td>\n",
       "      <td>...</td>\n",
       "      <td>...</td>\n",
       "    </tr>\n",
       "    <tr>\n",
       "      <th>143</th>\n",
       "      <td>iFFALCON by TCL</td>\n",
       "      <td>Ultra HD LED</td>\n",
       "      <td>65</td>\n",
       "      <td>Android</td>\n",
       "    </tr>\n",
       "    <tr>\n",
       "      <th>229</th>\n",
       "      <td>Panasonic</td>\n",
       "      <td>Ultra HD LED</td>\n",
       "      <td>55</td>\n",
       "      <td>Linux</td>\n",
       "    </tr>\n",
       "    <tr>\n",
       "      <th>626</th>\n",
       "      <td>SAMSUNG</td>\n",
       "      <td>Full HD LED</td>\n",
       "      <td>32</td>\n",
       "      <td>Tizen</td>\n",
       "    </tr>\n",
       "    <tr>\n",
       "      <th>851</th>\n",
       "      <td>PHILIPS</td>\n",
       "      <td>Full HD LED</td>\n",
       "      <td>22</td>\n",
       "      <td>No OS</td>\n",
       "    </tr>\n",
       "    <tr>\n",
       "      <th>220</th>\n",
       "      <td>Micromax</td>\n",
       "      <td>Ultra HD LED</td>\n",
       "      <td>49</td>\n",
       "      <td>Android</td>\n",
       "    </tr>\n",
       "  </tbody>\n",
       "</table>\n",
       "<p>285 rows × 4 columns</p>\n",
       "</div>"
      ],
      "text/plain": [
       "               Brand    Resolution  Size Operating System\n",
       "657        Panasonic   Full HD LED    40          Android\n",
       "831          OnePlus  Ultra HD LED    50          Android\n",
       "673        Panasonic  Ultra HD LED    55          Android\n",
       "149         MOTOROLA  Ultra HD LED    43          Android\n",
       "591               Vu  Ultra HD LED    50          Android\n",
       "..               ...           ...   ...              ...\n",
       "143  iFFALCON by TCL  Ultra HD LED    65          Android\n",
       "229        Panasonic  Ultra HD LED    55            Linux\n",
       "626          SAMSUNG   Full HD LED    32            Tizen\n",
       "851          PHILIPS   Full HD LED    22            No OS\n",
       "220         Micromax  Ultra HD LED    49          Android\n",
       "\n",
       "[285 rows x 4 columns]"
      ]
     },
     "execution_count": 40,
     "metadata": {},
     "output_type": "execute_result"
    }
   ],
   "source": [
    "X_train"
   ]
  },
  {
   "cell_type": "code",
   "execution_count": 41,
   "id": "d12a52ee",
   "metadata": {},
   "outputs": [],
   "source": [
    "from sklearn.compose import ColumnTransformer\n",
    "from sklearn.pipeline import Pipeline\n",
    "from sklearn.preprocessing import OneHotEncoder\n",
    "from sklearn.metrics import r2_score,mean_absolute_error"
   ]
  },
  {
   "cell_type": "code",
   "execution_count": 42,
   "id": "06f69522",
   "metadata": {},
   "outputs": [],
   "source": [
    "from sklearn.linear_model import LinearRegression,Ridge,Lasso\n",
    "from sklearn.neighbors import KNeighborsRegressor\n",
    "from sklearn.tree import DecisionTreeRegressor\n",
    "from sklearn.ensemble import RandomForestRegressor,GradientBoostingRegressor,AdaBoostRegressor,ExtraTreesRegressor\n",
    "from sklearn.svm import SVR\n",
    "from xgboost import XGBRegressor"
   ]
  },
  {
   "cell_type": "code",
   "execution_count": 43,
   "id": "b971a133",
   "metadata": {},
   "outputs": [
    {
     "name": "stderr",
     "output_type": "stream",
     "text": [
      "C:\\Users\\Om Valia\\anaconda3\\Lib\\site-packages\\sklearn\\preprocessing\\_encoders.py:972: FutureWarning: `sparse` was renamed to `sparse_output` in version 1.2 and will be removed in 1.4. `sparse_output` is ignored unless you leave `sparse` to its default value.\n",
      "  warnings.warn(\n"
     ]
    },
    {
     "name": "stdout",
     "output_type": "stream",
     "text": [
      "R2 score 0.8912811136864492\n",
      "MAE 0.1969208394109756\n"
     ]
    }
   ],
   "source": [
    "step1 = ColumnTransformer(transformers=[\n",
    "    ('col_tnf', OneHotEncoder(sparse=False, drop='first', handle_unknown='ignore'), [0, 1, 3])\n",
    "], remainder='passthrough')\n",
    "\n",
    "\n",
    "step2 = RandomForestRegressor(n_estimators=100,\n",
    "                              random_state=3,\n",
    "                              max_samples=0.5,\n",
    "                              max_features=0.75,\n",
    "                              max_depth=15)\n",
    "\n",
    "pipe = Pipeline([\n",
    "    ('step1',step1),\n",
    "    ('step2',step2)\n",
    "])\n",
    "\n",
    "pipe.fit(X_train,y_train)\n",
    "\n",
    "y_pred = pipe.predict(X_test)\n",
    "\n",
    "print('R2 score',r2_score(y_test,y_pred))\n",
    "print('MAE',mean_absolute_error(y_test,y_pred))"
   ]
  },
  {
   "cell_type": "code",
   "execution_count": 45,
   "id": "ad7ed32f",
   "metadata": {},
   "outputs": [],
   "source": [
    "import pickle\n",
    "pickle.dump(df,open('df_tv.pkl','wb'))\n",
    "pickle.dump(pipe,open('pipeline_tv.pkl','wb'))"
   ]
  },
  {
   "cell_type": "code",
   "execution_count": 46,
   "id": "2d7c9da3",
   "metadata": {},
   "outputs": [
    {
     "data": {
      "text/html": [
       "<div>\n",
       "<style scoped>\n",
       "    .dataframe tbody tr th:only-of-type {\n",
       "        vertical-align: middle;\n",
       "    }\n",
       "\n",
       "    .dataframe tbody tr th {\n",
       "        vertical-align: top;\n",
       "    }\n",
       "\n",
       "    .dataframe thead th {\n",
       "        text-align: right;\n",
       "    }\n",
       "</style>\n",
       "<table border=\"1\" class=\"dataframe\">\n",
       "  <thead>\n",
       "    <tr style=\"text-align: right;\">\n",
       "      <th></th>\n",
       "      <th>Brand</th>\n",
       "      <th>Resolution</th>\n",
       "      <th>Size</th>\n",
       "      <th>Selling Price</th>\n",
       "      <th>Operating System</th>\n",
       "    </tr>\n",
       "  </thead>\n",
       "  <tbody>\n",
       "    <tr>\n",
       "      <th>11</th>\n",
       "      <td>Hisense</td>\n",
       "      <td>Ultra HD LED</td>\n",
       "      <td>55</td>\n",
       "      <td>36999</td>\n",
       "      <td>Android</td>\n",
       "    </tr>\n",
       "    <tr>\n",
       "      <th>22</th>\n",
       "      <td>iFFALCON by TCL</td>\n",
       "      <td>Ultra HD LED</td>\n",
       "      <td>55</td>\n",
       "      <td>32999</td>\n",
       "      <td>Android</td>\n",
       "    </tr>\n",
       "    <tr>\n",
       "      <th>35</th>\n",
       "      <td>Vu</td>\n",
       "      <td>Ultra HD LED</td>\n",
       "      <td>55</td>\n",
       "      <td>46999</td>\n",
       "      <td>Android</td>\n",
       "    </tr>\n",
       "    <tr>\n",
       "      <th>42</th>\n",
       "      <td>OnePlus</td>\n",
       "      <td>Ultra HD LED</td>\n",
       "      <td>55</td>\n",
       "      <td>49999</td>\n",
       "      <td>Android</td>\n",
       "    </tr>\n",
       "    <tr>\n",
       "      <th>48</th>\n",
       "      <td>Thomson</td>\n",
       "      <td>Ultra HD LED</td>\n",
       "      <td>55</td>\n",
       "      <td>34999</td>\n",
       "      <td>Android</td>\n",
       "    </tr>\n",
       "    <tr>\n",
       "      <th>58</th>\n",
       "      <td>iFFALCON by TCL</td>\n",
       "      <td>Ultra HD LED</td>\n",
       "      <td>55</td>\n",
       "      <td>35999</td>\n",
       "      <td>Android</td>\n",
       "    </tr>\n",
       "    <tr>\n",
       "      <th>82</th>\n",
       "      <td>Hisense</td>\n",
       "      <td>Ultra HD LED</td>\n",
       "      <td>55</td>\n",
       "      <td>46999</td>\n",
       "      <td>Android</td>\n",
       "    </tr>\n",
       "    <tr>\n",
       "      <th>120</th>\n",
       "      <td>Thomson</td>\n",
       "      <td>Ultra HD LED</td>\n",
       "      <td>55</td>\n",
       "      <td>34999</td>\n",
       "      <td>Android</td>\n",
       "    </tr>\n",
       "    <tr>\n",
       "      <th>148</th>\n",
       "      <td>OnePlus</td>\n",
       "      <td>Ultra HD LED</td>\n",
       "      <td>55</td>\n",
       "      <td>52999</td>\n",
       "      <td>Android</td>\n",
       "    </tr>\n",
       "    <tr>\n",
       "      <th>224</th>\n",
       "      <td>iFFALCON by TCL</td>\n",
       "      <td>Ultra HD LED</td>\n",
       "      <td>55</td>\n",
       "      <td>36999</td>\n",
       "      <td>Android</td>\n",
       "    </tr>\n",
       "    <tr>\n",
       "      <th>251</th>\n",
       "      <td>Vu</td>\n",
       "      <td>Ultra HD LED</td>\n",
       "      <td>55</td>\n",
       "      <td>41999</td>\n",
       "      <td>Android</td>\n",
       "    </tr>\n",
       "    <tr>\n",
       "      <th>323</th>\n",
       "      <td>iFFALCON by TCL</td>\n",
       "      <td>Ultra HD LED</td>\n",
       "      <td>55</td>\n",
       "      <td>43999</td>\n",
       "      <td>Android</td>\n",
       "    </tr>\n",
       "    <tr>\n",
       "      <th>372</th>\n",
       "      <td>Vu</td>\n",
       "      <td>Ultra HD LED</td>\n",
       "      <td>55</td>\n",
       "      <td>46899</td>\n",
       "      <td>Android</td>\n",
       "    </tr>\n",
       "    <tr>\n",
       "      <th>533</th>\n",
       "      <td>Micromax</td>\n",
       "      <td>Ultra HD LED</td>\n",
       "      <td>55</td>\n",
       "      <td>49999</td>\n",
       "      <td>Android</td>\n",
       "    </tr>\n",
       "    <tr>\n",
       "      <th>547</th>\n",
       "      <td>iFFALCON by TCL</td>\n",
       "      <td>Ultra HD LED</td>\n",
       "      <td>55</td>\n",
       "      <td>31999</td>\n",
       "      <td>Android</td>\n",
       "    </tr>\n",
       "    <tr>\n",
       "      <th>605</th>\n",
       "      <td>PHILIPS</td>\n",
       "      <td>Ultra HD LED</td>\n",
       "      <td>55</td>\n",
       "      <td>48999</td>\n",
       "      <td>Android</td>\n",
       "    </tr>\n",
       "    <tr>\n",
       "      <th>640</th>\n",
       "      <td>MOTOROLA</td>\n",
       "      <td>Ultra HD LED</td>\n",
       "      <td>55</td>\n",
       "      <td>39999</td>\n",
       "      <td>Android</td>\n",
       "    </tr>\n",
       "    <tr>\n",
       "      <th>673</th>\n",
       "      <td>Panasonic</td>\n",
       "      <td>Ultra HD LED</td>\n",
       "      <td>55</td>\n",
       "      <td>168900</td>\n",
       "      <td>Android</td>\n",
       "    </tr>\n",
       "    <tr>\n",
       "      <th>729</th>\n",
       "      <td>Acer</td>\n",
       "      <td>Ultra HD LED</td>\n",
       "      <td>55</td>\n",
       "      <td>39999</td>\n",
       "      <td>Android</td>\n",
       "    </tr>\n",
       "    <tr>\n",
       "      <th>778</th>\n",
       "      <td>iFFALCON by TCL</td>\n",
       "      <td>Ultra HD LED</td>\n",
       "      <td>55</td>\n",
       "      <td>113990</td>\n",
       "      <td>Android</td>\n",
       "    </tr>\n",
       "    <tr>\n",
       "      <th>827</th>\n",
       "      <td>MOTOROLA</td>\n",
       "      <td>Ultra HD LED</td>\n",
       "      <td>55</td>\n",
       "      <td>42999</td>\n",
       "      <td>Android</td>\n",
       "    </tr>\n",
       "  </tbody>\n",
       "</table>\n",
       "</div>"
      ],
      "text/plain": [
       "               Brand    Resolution  Size  Selling Price Operating System\n",
       "11           Hisense  Ultra HD LED    55          36999          Android\n",
       "22   iFFALCON by TCL  Ultra HD LED    55          32999          Android\n",
       "35                Vu  Ultra HD LED    55          46999          Android\n",
       "42           OnePlus  Ultra HD LED    55          49999          Android\n",
       "48           Thomson  Ultra HD LED    55          34999          Android\n",
       "58   iFFALCON by TCL  Ultra HD LED    55          35999          Android\n",
       "82           Hisense  Ultra HD LED    55          46999          Android\n",
       "120          Thomson  Ultra HD LED    55          34999          Android\n",
       "148          OnePlus  Ultra HD LED    55          52999          Android\n",
       "224  iFFALCON by TCL  Ultra HD LED    55          36999          Android\n",
       "251               Vu  Ultra HD LED    55          41999          Android\n",
       "323  iFFALCON by TCL  Ultra HD LED    55          43999          Android\n",
       "372               Vu  Ultra HD LED    55          46899          Android\n",
       "533         Micromax  Ultra HD LED    55          49999          Android\n",
       "547  iFFALCON by TCL  Ultra HD LED    55          31999          Android\n",
       "605          PHILIPS  Ultra HD LED    55          48999          Android\n",
       "640         MOTOROLA  Ultra HD LED    55          39999          Android\n",
       "673        Panasonic  Ultra HD LED    55         168900          Android\n",
       "729             Acer  Ultra HD LED    55          39999          Android\n",
       "778  iFFALCON by TCL  Ultra HD LED    55         113990          Android\n",
       "827         MOTOROLA  Ultra HD LED    55          42999          Android"
      ]
     },
     "execution_count": 46,
     "metadata": {},
     "output_type": "execute_result"
    }
   ],
   "source": [
    "resolution = 'Ultra HD LED'\n",
    "size = 55\n",
    "os = 'Android'\n",
    "\n",
    "filtered_records = df[(df['Resolution'] == resolution) & (df['Size'] == size) & (df['Operating System'] == os)]\n",
    "filtered_records"
   ]
  },
  {
   "cell_type": "code",
   "execution_count": null,
   "id": "5fb84b44",
   "metadata": {},
   "outputs": [],
   "source": []
  }
 ],
 "metadata": {
  "kernelspec": {
   "display_name": "Python 3 (ipykernel)",
   "language": "python",
   "name": "python3"
  },
  "language_info": {
   "codemirror_mode": {
    "name": "ipython",
    "version": 3
   },
   "file_extension": ".py",
   "mimetype": "text/x-python",
   "name": "python",
   "nbconvert_exporter": "python",
   "pygments_lexer": "ipython3",
   "version": "3.11.5"
  }
 },
 "nbformat": 4,
 "nbformat_minor": 5
}
